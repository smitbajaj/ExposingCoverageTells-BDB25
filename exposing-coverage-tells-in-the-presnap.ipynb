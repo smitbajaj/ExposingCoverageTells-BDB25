{
 "cells": [
  {
   "cell_type": "markdown",
   "id": "0d0d362f",
   "metadata": {
    "_kg_hide-input": false,
    "id": "-A81I7vvPtGf",
    "papermill": {
     "duration": 0.006668,
     "end_time": "2025-01-06T20:24:10.563410",
     "exception": false,
     "start_time": "2025-01-06T20:24:10.556742",
     "status": "completed"
    },
    "tags": []
   },
   "source": [
    "## Exposing Coverage Tells in the Presnap\n",
    "\n",
    "Smit Bajaj, Vishakh Sandwar - Undergraduate Track (New York University)"
   ]
  },
  {
   "cell_type": "markdown",
   "id": "54ace6d2",
   "metadata": {
    "id": "WJplZZKx5q4W",
    "papermill": {
     "duration": 0.003427,
     "end_time": "2025-01-06T20:24:10.572949",
     "exception": false,
     "start_time": "2025-01-06T20:24:10.569522",
     "status": "completed"
    },
    "tags": []
   },
   "source": [
    "## I. Introduction\n",
    "\n",
    "The NFL pre-snap period is a battlefield of information. From personnel groupings to defensive alignments, both teams work with incomplete information, forcing them to operate under probabilities rather than certainties. The better offenses, however, draw out information from the defense and tilt the odds just enough to offer an edge. In the razor-thin margins of the NFL, having a quarterback who is able to recognize & take advantage of pre-snap tells is essential.\n",
    "\n",
    "Aaron Rodgers is one of those quarterbacks and put it on display in a Thanksgiving matchup against the Lions in 2022. Coming out of the huddle on a 3rd and 10, Rodgers peaked at LB Alex Anzalone following TE Robert Tonyan to the outside. Now suspecting man-coverage, Rodgers checked into a classic ‘man-beating’ concept: the slot-fade."
   ]
  },
  {
   "cell_type": "code",
   "execution_count": 1,
   "id": "89f24e8a",
   "metadata": {
    "_kg_hide-input": true,
    "execution": {
     "iopub.execute_input": "2025-01-06T20:24:10.581576Z",
     "iopub.status.busy": "2025-01-06T20:24:10.581144Z",
     "iopub.status.idle": "2025-01-06T20:24:10.662810Z",
     "shell.execute_reply": "2025-01-06T20:24:10.661334Z"
    },
    "id": "7cgCaGEs5q4W",
    "outputId": "3c0eeb6c-8cf2-4aed-fc56-39f9e264ccc6",
    "papermill": {
     "duration": 0.088881,
     "end_time": "2025-01-06T20:24:10.665311",
     "exception": false,
     "start_time": "2025-01-06T20:24:10.576430",
     "status": "completed"
    },
    "tags": []
   },
   "outputs": [
    {
     "data": {
      "image/jpeg": "[encoded data removed]",
      "text/html": [
       "\n",
       "        <iframe\n",
       "            width=\"650\"\n",
       "            height=\"450\"\n",
       "            src=\"https://www.youtube.com/embed/5gztKA3V1lw\"\n",
       "            frameborder=\"0\"\n",
       "            allowfullscreen\n",
       "            \n",
       "        ></iframe>\n",
       "        "
      ],
      "text/plain": [
       "<IPython.lib.display.YouTubeVideo at 0x7b1b33679450>"
      ]
     },
     "execution_count": 1,
     "metadata": {},
     "output_type": "execute_result"
    }
   ],
   "source": [
    "from IPython.display import YouTubeVideo\n",
    "YouTubeVideo('5gztKA3V1lw', width=650, height=450)"
   ]
  },
  {
   "cell_type": "markdown",
   "id": "00fd9cf4",
   "metadata": {
    "id": "_Cwg0kGnPtGf",
    "papermill": {
     "duration": 0.004066,
     "end_time": "2025-01-06T20:24:10.674269",
     "exception": false,
     "start_time": "2025-01-06T20:24:10.670203",
     "status": "completed"
    },
    "tags": []
   },
   "source": [
    "Rodgers' pre-snap diagnosis was spot-on — Allen Lazard drew the one-on-one matchup in man coverage and capitalized with a 47-yard reception. By EPA, it was the Packers' most valuable offensive play out of their 550 snaps in our dataset.\n",
    "\n",
    "\n",
    "Given this payoff, it’s clear why quarterbacks devote so much time to spotting man/zone tells. Three-time Pro Bowl QB Alex Smith illustrates Peyton Manning’s pre-snap mindset on the [Glue Guys podcast](https://joincolossus.com/episode/chatter-matters/):\n",
    "\n",
    "\n",
    "> “He’s [Peyton] taking in all these little pieces of information. The front, the linebacker & corner placements… that’s why they’re watching the film all week — to identify this because, again, this is all happening in a couple of seconds.”\n",
    "\n",
    "\n",
    "In this paper, we present a tool that predicts man or zone coverage before the snap, adding another layer to film study. It has two core features:\n",
    "\n",
    "* An interactive digital whiteboard that lets users reposition players and immediately see how different defensive alignments affect coverage probabilities.\n",
    "\n",
    "* A breakdown of team-specific defensive “giveaways,” such as a safety cheating back, that regularly reveal coverage intentions.\n",
    "\n",
    "\n",
    "## II. Model Architecture & Accuracy\n",
    "\n",
    "Drawing from [Song et. al (2023)](https://cdn.prod.website-files.com/5f1af76ed86d6771ad48324b/63fe7c3baf598410cf4fbff3_Explainable%20Defense%20Coverage%20Classification%20in%20NFL%20Games%20using%20Deep%20NN.pdf) — a joint paper between Amazon ML Solutions Lab and NFL’s NGS group — we were encouraged by the use of attention layers in coverage classification. This insight, combined with the framework established by SumerSports’ [Ranasaria & Vabishchevich (2024)](https://github.com/SumerSports/SportsTrackingTransformer/blob/main/Attention%20is%20All%20You%20Need%2C%20for%20Sports%20Tracking%20Data.pdf), led us to implement a Transformer-based architecture. A brief overview of the model can be found below:\n",
    "\n",
    "![Description](https://i.imgur.com/ibShcLT.jpeg)\n",
    "\n",
    "* **1) Training Data:** As laid out in Ranasaria & Vabishchevich (2024), we train on independent frames from Weeks 1-8 as opposed to plays. This is advantageous as; 1) we increase our set of training data to roughly ~700k frames, and 2) this allows easier portability to our frontend tool. We add additional training frames by mirroring across the y-axis on 33% of frames. Notably, we bias this mirrored set towards the pre-snap, enabling the model to prioritize these frames in training. A distribution of our training frames can be found in the figure above. To reduce computation, we downsample by a factor of two and filter out rush attempts.\n",
    "\n",
    "* **2) Model Architecture:** We use a single Transformer architecture with two attention heads. We first normalize our input features and transform them into higher-dimensional embeddings, allowing the model to capture subtle spatial relationships (like a linebacker shading inside). These embeddings feed into our 4-layer Transformer, which excels at learning how players move and interact with each other (such as defenders exchanging coverage responsibilities during a WR motion). The model then consolidates this information through pooling to arrive at a single man/zone prediction for each frame.\n",
    "\n",
    "* **3) Results:** In the pre-snap, our Week 9 man/zone prediction accuracy reaches a high of **89%** and peaks at **93%** one second after the snap. As a benchmark, the Amazon-NFL model tested at 95.4% but had access to ~8x more data and trained primarily on post-snap frames (which are more informative). We are generally satisfied with our results but believe there is room for improvement.\n",
    "\n",
    "Despite training & testing on independent frames, we find frame-to-frame probabilities in a play to be stable. An animation of Allen Lazard’s 47-yard catch demonstrates this below:"
   ]
  },
  {
   "cell_type": "code",
   "execution_count": 2,
   "id": "e4550dc4",
   "metadata": {
    "_kg_hide-input": true,
    "_kg_hide-output": false,
    "execution": {
     "iopub.execute_input": "2025-01-06T20:24:10.684691Z",
     "iopub.status.busy": "2025-01-06T20:24:10.684085Z",
     "iopub.status.idle": "2025-01-06T20:24:10.692134Z",
     "shell.execute_reply": "2025-01-06T20:24:10.690772Z"
    },
    "id": "T4S7yc_cPtGg",
    "outputId": "3fed07ed-b784-475d-babd-d8f1ae8892ef",
    "papermill": {
     "duration": 0.015764,
     "end_time": "2025-01-06T20:24:10.694252",
     "exception": false,
     "start_time": "2025-01-06T20:24:10.678488",
     "status": "completed"
    },
    "tags": []
   },
   "outputs": [
    {
     "data": {
      "text/html": [
       "<div style=\"padding:100% 0 0 0;position:relative;\"><iframe src=\"https://player.vimeo.com/video/1042478451?badge=0&amp;autopause=0&amp;player_id=0&amp;app_id=58479\" frameborder=\"0\" allow=\"autoplay; fullscreen; picture-in-picture; clipboard-write\" style=\"position:absolute;top:0;left:0;width:100%;height:100%;\" title=\"Lazard - Line Graph &amp; Dots\"></iframe></div><script src=\"https://player.vimeo.com/api/player.js\"></script>"
      ],
      "text/plain": [
       "<IPython.core.display.HTML object>"
      ]
     },
     "execution_count": 2,
     "metadata": {},
     "output_type": "execute_result"
    }
   ],
   "source": [
    "from IPython.display import HTML\n",
    "HTML('<div style=\"padding:100% 0 0 0;position:relative;\"><iframe src=\"https://player.vimeo.com/video/1042478451?badge=0&amp;autopause=0&amp;player_id=0&amp;app_id=58479\" frameborder=\"0\" allow=\"autoplay; fullscreen; picture-in-picture; clipboard-write\" style=\"position:absolute;top:0;left:0;width:100%;height:100%;\" title=\"Lazard - Line Graph &amp; Dots\"></iframe></div><script src=\"https://player.vimeo.com/api/player.js\"></script>')"
   ]
  },
  {
   "cell_type": "markdown",
   "id": "a43e2ccf",
   "metadata": {
    "_kg_hide-output": true,
    "id": "uL3f9m1BPtGg",
    "papermill": {
     "duration": 0.004212,
     "end_time": "2025-01-06T20:24:10.703265",
     "exception": false,
     "start_time": "2025-01-06T20:24:10.699053",
     "status": "completed"
    },
    "tags": []
   },
   "source": [
    "Notably, Aaron Rodgers and the model pick up the same clue. The model peaks at 90% man confidence when Anzalone sprints to line up against Tonyan on the outside.\n",
    "\n",
    "While this is a clear-cut example, the model can also detect subtle indicators that may escape human observation. In the following play, the Panthers motion WR Shi Smith into a 2x2 set. The nickel follows and by most indications, the Bengals are in man-to-man coverage."
   ]
  },
  {
   "cell_type": "code",
   "execution_count": 3,
   "id": "ce7dc95b",
   "metadata": {
    "_kg_hide-input": true,
    "execution": {
     "iopub.execute_input": "2025-01-06T20:24:10.713545Z",
     "iopub.status.busy": "2025-01-06T20:24:10.713076Z",
     "iopub.status.idle": "2025-01-06T20:24:10.720364Z",
     "shell.execute_reply": "2025-01-06T20:24:10.719182Z"
    },
    "id": "NuLjiLZhPtGg",
    "outputId": "f756e15c-8ce8-49b7-b95e-cb4bdf1173c6",
    "papermill": {
     "duration": 0.014735,
     "end_time": "2025-01-06T20:24:10.722382",
     "exception": false,
     "start_time": "2025-01-06T20:24:10.707647",
     "status": "completed"
    },
    "tags": []
   },
   "outputs": [
    {
     "data": {
      "text/html": [
       "<div style=\"padding:75% 0 0 0;position:relative;\"><iframe src=\"https://player.vimeo.com/video/1042562986?badge=0&amp;autopause=0&amp;player_id=0&amp;app_id=58479\" frameborder=\"0\" allow=\"autoplay; fullscreen; picture-in-picture; clipboard-write\" style=\"position:absolute;top:0;left:0;width:100%;height:100%;\" title=\"resized\"></iframe></div><script src=\"https://player.vimeo.com/api/player.js\"></script>"
      ],
      "text/plain": [
       "<IPython.core.display.HTML object>"
      ]
     },
     "execution_count": 3,
     "metadata": {},
     "output_type": "execute_result"
    }
   ],
   "source": [
    "from IPython.display import HTML\n",
    "HTML('<div style=\"padding:75% 0 0 0;position:relative;\"><iframe src=\"https://player.vimeo.com/video/1042562986?badge=0&amp;autopause=0&amp;player_id=0&amp;app_id=58479\" frameborder=\"0\" allow=\"autoplay; fullscreen; picture-in-picture; clipboard-write\" style=\"position:absolute;top:0;left:0;width:100%;height:100%;\" title=\"resized\"></iframe></div><script src=\"https://player.vimeo.com/api/player.js\"></script>')"
   ]
  },
  {
   "cell_type": "markdown",
   "id": "5679c2d9",
   "metadata": {
    "_kg_hide-input": false,
    "id": "dI5pONwngo0o",
    "papermill": {
     "duration": 0.004108,
     "end_time": "2025-01-06T20:24:10.731174",
     "exception": false,
     "start_time": "2025-01-06T20:24:10.727066",
     "status": "completed"
    },
    "tags": []
   },
   "source": [
    "* *Viewing note: Best to view game footage clip (top left) first, then replay & view probability shifts on the right.*\n",
    "\n",
    "The model initially indicates man coverage as the nickel trails, but once the linebackers shift and the nickel shades inside, it correctly identifies that the Bengals are in a disguised zone look. Safety Jessie Bates gains depth moments before the snap, and the model further spikes to a 98% zone coverage prediction. We are encouraged by these types of plays as they demonstrate the model's ability to detect more nuanced defensive signals that humans may overlook.\n",
    "\n",
    "\n",
    "## III. A Digital Whiteboard\n",
    "\n",
    "With the model calibrated, we move to our frontend tool designed to complement traditional film study. While film review is invaluable, it's inherently limited by sample size — quarterbacks and analysts can only study the finite number of plays a defense has shown. Our interactive tool bridges this gap by letting users experiment with infinite defensive alignments, turning discrete game film into a continuous learning experience.\n",
    "\n",
    "Inspired by [this tweet](https://x.com/SyedSchemes/status/1614899781385461761) by SumerSports' Shawn Syed, we recreated the pre-snap alignments from the following play. The Chargers check into a disguised Cover 2 look but indicate a Cover 1 Man Robber coverage with early safety movements. Still, before the snap, #24 Nasir Adderly (circled in red) gains depth — cheating to cover his half of the field and giving away the Cover 2 look. Trevor Lawrence, however, fails to recognize Adderly's giveaway and throws an interception. Our digital whiteboard (bottom half of video) illustrates how pivotal this movement was."
   ]
  },
  {
   "cell_type": "code",
   "execution_count": 4,
   "id": "36504f9c",
   "metadata": {
    "_kg_hide-input": true,
    "execution": {
     "iopub.execute_input": "2025-01-06T20:24:10.741508Z",
     "iopub.status.busy": "2025-01-06T20:24:10.741054Z",
     "iopub.status.idle": "2025-01-06T20:24:10.748107Z",
     "shell.execute_reply": "2025-01-06T20:24:10.746971Z"
    },
    "papermill": {
     "duration": 0.014589,
     "end_time": "2025-01-06T20:24:10.750157",
     "exception": false,
     "start_time": "2025-01-06T20:24:10.735568",
     "status": "completed"
    },
    "tags": []
   },
   "outputs": [
    {
     "data": {
      "text/html": [
       "<div style=\"padding:100% 0 0 0;position:relative;\"><iframe src=\"https://player.vimeo.com/video/1044365251?badge=0&amp;autopause=0&amp;player_id=0&amp;app_id=58479\" frameborder=\"0\" allow=\"autoplay; fullscreen; picture-in-picture; clipboard-write\" style=\"position:absolute;top:0;left:0;width:100%;height:100%;\" title=\"Jacksonville-Los Angeles Whiteboard Example\"></iframe></div><script src=\"https://player.vimeo.com/api/player.js\"></script>"
      ],
      "text/plain": [
       "<IPython.core.display.HTML object>"
      ]
     },
     "execution_count": 4,
     "metadata": {},
     "output_type": "execute_result"
    }
   ],
   "source": [
    "from IPython.display import HTML\n",
    "HTML('<div style=\"padding:100% 0 0 0;position:relative;\"><iframe src=\"https://player.vimeo.com/video/1044365251?badge=0&amp;autopause=0&amp;player_id=0&amp;app_id=58479\" frameborder=\"0\" allow=\"autoplay; fullscreen; picture-in-picture; clipboard-write\" style=\"position:absolute;top:0;left:0;width:100%;height:100%;\" title=\"Jacksonville-Los Angeles Whiteboard Example\"></iframe></div><script src=\"https://player.vimeo.com/api/player.js\"></script>')"
   ]
  },
  {
   "cell_type": "markdown",
   "id": "6232d44e",
   "metadata": {
    "papermill": {
     "duration": 0.004066,
     "end_time": "2025-01-06T20:24:10.759231",
     "exception": false,
     "start_time": "2025-01-06T20:24:10.755165",
     "status": "completed"
    },
    "tags": []
   },
   "source": [
    "Had Addderly shifted towards the center of the field (confirming the Robber look), the probability of zone coverage dips to 29%. Even though the defensive backs showed press coverage on all receivers (typically indicating man-to-man), the model weighted Adderly's movement as the decisive factor in correctly predicting zone coverage.\n",
    "\n",
    "Similary in this [next example](https://x.com/SyedSchemes/status/1838296432513888501) (also derived from Syed, thanks Shawn!), the Broncos disguise Cover 2 with a man coverage look, with Surtain pressed up against Evans at the line of scrimmage (circled in blue). DB Ja'Quan McMillian (#29 - circled in red), however, shades Godwin's outer shoulder and plays ~5 yards off. McMillian's alignment signals to our model that the Broncos are likely playing zone coverage.\n",
    "\n",
    "As we recreate this play in our digital whiteboard, we find that McMillian is the \"key-man\" in this coverage that Mayfield should be reading. If McMillian aligns in press coverage, there's a 39% chance of zone coverage. As he plays off, however, the probability of zone coverage increases to 60% even with Surtain's press look."
   ]
  },
  {
   "cell_type": "code",
   "execution_count": 5,
   "id": "2fafdea6",
   "metadata": {
    "_kg_hide-input": true,
    "execution": {
     "iopub.execute_input": "2025-01-06T20:24:10.769374Z",
     "iopub.status.busy": "2025-01-06T20:24:10.768971Z",
     "iopub.status.idle": "2025-01-06T20:24:10.797902Z",
     "shell.execute_reply": "2025-01-06T20:24:10.796616Z"
    },
    "papermill": {
     "duration": 0.036484,
     "end_time": "2025-01-06T20:24:10.799959",
     "exception": false,
     "start_time": "2025-01-06T20:24:10.763475",
     "status": "completed"
    },
    "tags": []
   },
   "outputs": [
    {
     "data": {
      "image/jpeg": "[encoded data removed]",
      "text/html": [
       "\n",
       "        <iframe\n",
       "            width=\"650\"\n",
       "            height=\"450\"\n",
       "            src=\"https://www.youtube.com/embed/GTQb3nncZxc\"\n",
       "            frameborder=\"0\"\n",
       "            allowfullscreen\n",
       "            \n",
       "        ></iframe>\n",
       "        "
      ],
      "text/plain": [
       "<IPython.lib.display.YouTubeVideo at 0x7b1b33679810>"
      ]
     },
     "execution_count": 5,
     "metadata": {},
     "output_type": "execute_result"
    }
   ],
   "source": [
    "from IPython.display import YouTubeVideo\n",
    "YouTubeVideo('GTQb3nncZxc', width=650, height=450)"
   ]
  },
  {
   "cell_type": "markdown",
   "id": "18b18d07",
   "metadata": {
    "papermill": {
     "duration": 0.004646,
     "end_time": "2025-01-06T20:24:10.809637",
     "exception": false,
     "start_time": "2025-01-06T20:24:10.804991",
     "status": "completed"
    },
    "tags": []
   },
   "source": [
    "Mayfield was ultimately fooled by the Broncos' look despite McMillian's giveaway. He progressed to Evans on the backside (likely expecting 1-on-1 coverage) only for Broncos S Brandon Jones to jump the pass.\n",
    "\n",
    "We believe the power of this digital whiteboard lies in its ability to experiment with \"leverage players\" like McMillian and Adderly, whose pre-snap movements impact coverage odds. For example, if an offense identifies a handful of promising plays against a particular defense, they can recreate that defense's tendencies in the whiteboard to understand the spectrum of pre-snap looks they might face. From here, the offense can pinpoint which defensive players are important to read and how their specific movements telegraph coverage intentions. From here, we move to compiling these giveaways on a general basis.\n",
    "\n",
    "**Our frontend tool is linked [here](https://vishakhs.itch.io/kagglenfl25)!**\n",
    "\n",
    "## IV. Compiling Pre-Snap Tells\n",
    "\n",
    "In [this](https://vimeo.com/97245230) interview, Aaron Rodgers provides a window into the quarterback's pre-snap mental process:\n",
    "\n",
    "> “When you see it and you've experienced it, you're able to not let your thoughts overtake your ability to react to what you're seeing.”\n",
    "\n",
    "This quote reveals a crucial truth: in the compressed timeframe before the snap, quarterbacks are forced to rely on pattern recognition and cognitive shortcuts rather than methodical analysis.\n",
    "\n",
    "Our next section aims to equip quarterbacks with these cognitive shortcuts. By analyzing sudden swings in our model's coverage predictions, we can pinpoint which defenders most frequently telegraph their team's coverage and how they do it.\n",
    "\n",
    "To maximize our sample size, we expanded our analysis to all weeks using a leave-one-week-out training approach (i.e. week 5 predictions were trained on weeks 1-4, and 6-9). We then identified **significant** coverage giveaways by focusing on probability shifts of 10% or more within half a second (approximately 3.5 times the Median Absolute Deviation of probabilites in the pre-snap) to ensure we captured genuine coverage swings rather than noise.\n",
    "\n",
    "**For plays without motion**, we work backwards from these probability swings by analyzing each defender's velocity vectors (vx, vy) Euclidean distance to the origin. The defender with the largest distance is flagged as the \"tell\" player. While we explored more sophisticated outlier detection methods like DBSCAN, this simple distance-based approach proved most effective in a manual random review of 10 plays. We then chart these key defenders' **giveaway paths** from standard alignments (middle linebacker, slot corner, outside corner, safety) inspired by [Eager et. al (2024)](https://www.sloansportsconference.com/research-papers/using-tracking-data-to-build-offensive-line-development-tools). The graphic below serves as a “zone tell sheet” created for the Patriots to analyze how their rivals reveal zone coverage:\n",
    "\n",
    "![Description](https://i.imgur.com/Gu6Sa6j.jpeg)\n",
    "\n",
    "**For plays with motion**, we felt uncomfortable signaling out one player as the coverage indicator. Given the coordinated nature of responses to motion, we built off of [Fernández and Bornn (2018)](https://www.lukebornn.com/papers/fernandez_ssac_2018.pdf) and opted for team-based heatmaps instead. The graphic below illustrates the Panthers’ man vs. zone response to fly/jet motion moving from right to left:\n",
    "\n",
    "![Description](https://i.imgur.com/yaJzPG8.jpeg)\n",
    "\n",
    "* *Viewing note: Red dots represent WR starting points in motion. Black paths chart the motion.*\n",
    "\n",
    "The heatmaps align with traditional football wisdom — in man coverage, we see a clear “trailing” pattern as the DB tracks the motioning receiver, while zone coverage shows a more distributed defensive adjustment. While our current sample size limits broader conclusions, this hot/cold spot visualization framework could prove valuable for identifying coverage tendencies created by specific motion responses.\n",
    "\n",
    "## V. Conclusion\n",
    "\n",
    "Throughout this process, we anchored on Amazon TNF Producer Sam Schwartzstein's appearance on [*The Athletic Football Show*](https://deepcast.fm/episode/the-state-of-nfl-stats-and-a-falcons-eagles-recap-with-amazons-sam-schwartzstein-qb-counseling-for-bryce-young-and-the-panthers-with-steven-ruiz). During the interview, he discussed their broadcasts' blitz identification model.\n",
    "\n",
    "> “Sean Payton talked about it as his new view. He now has a different view on blitzing because of what he saw Defensive Alerts [Amazon’s blitz prediction model] do. A lot of the times it fits normal ‘football guy’ rules, but then there’s times where I was like, I have no idea why this player is highlighted. And then he blitzes.”\n",
    "\n",
    "Just as the blitz model revealed subtle blitzing patterns to Payton, our model can expose coverage giveaways that may elude experienced eyes. For example, it accurately identified the Bengals’ disguised zone coverage in Part II, showcasing its ability to detect subtleties often overlooked in real time.\n",
    "\n",
    "We also hope our frontend tool helps teams explore alternative defensive alignments beyond film study, allowing quarterbacks to develop intuitive pattern recognition for split-second pre-snap decisions. While quarterbacks already notice obvious coverage giveaways (like a CB’s early backpedal), coordinator-specific models could uncover more nuanced patterns. Training on an unconventional defense, such as Wink Martindale’s 2022 unit, may highlight unique pre-snap tells, though sample sizes remained a limiting factor for us given our dataset.\n",
    "\n",
    "## VI. Future Work\n",
    "\n",
    "* We would be eager to train a model recognizing “telling” movements in zone coverages (Cover 6, Cover 3, etc.) immediately after the snap, primarily from the deep safeties.\n",
    "\n",
    "* We believe our “tell recognition” methodology can be improved. A modified version (tailored to Transformer models) of Song et. al’s (2023) Guided GradCAM algorithm can “light up” specific positional interactions causing changes in predictions. We considered [Alcorn & Nguyen (2021)’s](https://arxiv.org/abs/2102.03291) 2D UMAP methodology, but wanted to highlight player movements paths.\n",
    "\n",
    "* With higher computing capabilities, we would look forward to improving the model. For instance, Alcorn & Nguyen (2021) and [Vaswani et. al (2017)](https://arxiv.org/abs/1706.03762) outnumber our hyperparameters by a factor of four.\n",
    "\n",
    "## VII. Appendix\n",
    "\n",
    "* All code found [here](https://github.com/smitbajaj/ExposingCoverageTells-BDB25/tree/main).\n",
    "* Final word count: 1992\n",
    "* Final figure count: 8\n",
    "\n",
    "Feel free to reach out to [Smit Bajaj](https://x.com/SBajajSports) for any modeling/visualization questions and/or [Vishakh Sandwar](https://www.linkedin.com/in/vishakhs/) for any frontend questions!\n",
    "\n",
    "A huge thank you to Shawn Syed + Udit Ranasaria from SumerSports for their guidance, both from a schematic & technical lens! Another big thank you to Tej Seth for inspriation on path charting!"
   ]
  }
 ],
 "metadata": {
  "colab": {
   "name": "Exposing Coverage Tells in the Presnap",
   "provenance": []
  },
  "kaggle": {
   "accelerator": "none",
   "dataSources": [
    {
     "databundleVersionId": 9816926,
     "sourceId": 84175,
     "sourceType": "competition"
    }
   ],
   "dockerImageVersionId": 30822,
   "isGpuEnabled": false,
   "isInternetEnabled": true,
   "language": "python",
   "sourceType": "notebook"
  },
  "kernelspec": {
   "display_name": "Python 3",
   "language": "python",
   "name": "python3"
  },
  "language_info": {
   "codemirror_mode": {
    "name": "ipython",
    "version": 3
   },
   "file_extension": ".py",
   "mimetype": "text/x-python",
   "name": "python",
   "nbconvert_exporter": "python",
   "pygments_lexer": "ipython3",
   "version": "3.10.12"
  },
  "papermill": {
   "default_parameters": {},
   "duration": 3.705903,
   "end_time": "2025-01-06T20:24:11.336662",
   "environment_variables": {},
   "exception": null,
   "input_path": "__notebook__.ipynb",
   "output_path": "__notebook__.ipynb",
   "parameters": {},
   "start_time": "2025-01-06T20:24:07.630759",
   "version": "2.6.0"
  }
 },
 "nbformat": 4,
 "nbformat_minor": 5
}
